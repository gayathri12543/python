{
 "cells": [
  {
   "cell_type": "code",
   "execution_count": 1,
   "metadata": {},
   "outputs": [
    {
     "name": "stdout",
     "output_type": "stream",
     "text": [
      "0\n",
      "1\n",
      "2\n",
      "3\n",
      "4\n",
      "5\n",
      "6\n",
      "7\n",
      "8\n",
      "9\n",
      "10\n",
      "11\n",
      "12\n",
      "13\n",
      "14\n",
      "15\n",
      "16\n",
      "17\n",
      "18\n",
      "19\n",
      "None\n"
     ]
    }
   ],
   "source": [
    "def printeven(n):\n",
    "    cnt=0;\n",
    "    sum=0;\n",
    "    while(cnt!=n):\n",
    "        print(cnt);\n",
    "        if(cnt%2==0):\n",
    "            sum=sum+cnt;\n",
    "        cnt=cnt+1;\n",
    " \n",
    "print(printeven(20));"
   ]
  },
  {
   "cell_type": "code",
   "execution_count": 19,
   "metadata": {},
   "outputs": [
    {
     "name": "stdout",
     "output_type": "stream",
     "text": [
      "90\n"
     ]
    }
   ],
   "source": [
    "def printeven(n):\n",
    "    cnt=0;\n",
    "    sum=0;\n",
    "    while(cnt!=n):\n",
    "        if(cnt%2==0):\n",
    "            sum=sum+cnt;\n",
    "        cnt=cnt+1;\n",
    "    return sum\n",
    "print(printeven(20));"
   ]
  },
  {
   "cell_type": "code",
   "execution_count": 18,
   "metadata": {},
   "outputs": [
    {
     "name": "stdout",
     "output_type": "stream",
     "text": [
      "1 2 3 4 6 "
     ]
    }
   ],
   "source": [
    "def factorslist(n):\n",
    "  i=1;\n",
    "  while(i!=n):\n",
    "    if(n%i==0):\n",
    "       print(i,end=\" \");\n",
    "    i=i+1;\n",
    "  return;\n",
    "\n",
    "factorslist(12);"
   ]
  },
  {
   "cell_type": "code",
   "execution_count": 20,
   "metadata": {},
   "outputs": [
    {
     "name": "stdout",
     "output_type": "stream",
     "text": [
      "[1, 2, 3, 4, 5]\n"
     ]
    }
   ],
   "source": [
    "list1=[1,2,3,4,5];\n",
    "print(list1);"
   ]
  },
  {
   "cell_type": "code",
   "execution_count": 23,
   "metadata": {},
   "outputs": [
    {
     "name": "stdout",
     "output_type": "stream",
     "text": [
      "a b c d e "
     ]
    }
   ],
   "source": [
    "list2=[\"a\",\"b\",\"c\",\"d\",\"e\"];\n",
    "for x in list2:\n",
    "    print(x,end=\" \");"
   ]
  },
  {
   "cell_type": "code",
   "execution_count": 27,
   "metadata": {},
   "outputs": [
    {
     "name": "stdout",
     "output_type": "stream",
     "text": [
      "1 2 3 4 5 6 7 \n",
      "5\n",
      "[4, 5, 6, 7]\n",
      "[1, 2, 3]\n",
      "[1, 4, 7]\n",
      "[1, 2, 3, 4, 5, 6, 7]\n"
     ]
    }
   ],
   "source": [
    "list2=[1,2,3,4,5,6,7];\n",
    "for x in list2:\n",
    "    print(x,end=\" \");\n",
    "    \n",
    "print();\n",
    "print(list2[4]);\n",
    "print(list2[3:7]);\n",
    "print(list2[0:3]);\n",
    "print(list2[::3]);\n",
    "print(list2[:7]);"
   ]
  },
  {
   "cell_type": "code",
   "execution_count": 26,
   "metadata": {},
   "outputs": [
    {
     "name": "stdout",
     "output_type": "stream",
     "text": [
      "1 2 3 4 5 6 7 8 9 10 \n",
      "[2, 3, 4, 5, 6, 7, 8, 9]\n"
     ]
    }
   ],
   "source": [
    "list2=[1,2,3,4,5,6,7,8,9,10];\n",
    "for x in list2:\n",
    "    print(x,end=\" \");\n",
    "    \n",
    "print();\n",
    "print(list2[1:-1]);"
   ]
  },
  {
   "cell_type": "code",
   "execution_count": 28,
   "metadata": {},
   "outputs": [
    {
     "name": "stdout",
     "output_type": "stream",
     "text": [
      "[1, 2, 3, 4, 5, 6, 7]\n",
      "[1, 2, 3, 8, 5, 6, 7]\n",
      "[1, 2, 3, 5, 6, 7]\n",
      "[1, 2, 3, 5, 6, 7, 10, 9, 8, 7, 6, 5, 4, 3, 2, 1]\n"
     ]
    }
   ],
   "source": [
    "list2=[1,2,3,4,5,6,7];\n",
    "print(list2);\n",
    "    \n",
    "list2[3]=8;\n",
    "print(list2);\n",
    "del list2[3];\n",
    "print(list2);\n",
    "list1=[10,9,8,7,6,5,4,3,2,1];\n",
    "print(list2+list1);"
   ]
  },
  {
   "cell_type": "code",
   "execution_count": 32,
   "metadata": {},
   "outputs": [
    {
     "name": "stdout",
     "output_type": "stream",
     "text": [
      "[1, 2, 3, 4, 5, 6, 7]\n",
      "[1, 2, 3, 8, 5, 6, 7]\n",
      "[1, 2, 3, 5, 6, 7]\n",
      "[1, 2, 3, 5, 6, 7, 10, 12]\n",
      "1\n"
     ]
    }
   ],
   "source": [
    "list2=[1,2,3,4,5,6,7];\n",
    "print(list2);\n",
    "    \n",
    "list2[3]=8;\n",
    "print(list2);\n",
    "del list2[3];\n",
    "print(list2);\n",
    "list2.append(10);\n",
    "list2.append(12);\n",
    "print(list2);\n",
    "print(list2.count(1))"
   ]
  },
  {
   "cell_type": "code",
   "execution_count": 38,
   "metadata": {},
   "outputs": [
    {
     "name": "stdout",
     "output_type": "stream",
     "text": [
      "['a', 'b', 'c', 'd', 'e', 'f']\n",
      "2\n",
      "6\n",
      "['a', 'b', 'c', 66, 'd', 'e', 'f']\n"
     ]
    }
   ],
   "source": [
    "lst=[\"a\",\"b\",\"c\",\"d\",\"e\",\"f\"];\n",
    "print(lst);\n",
    "print(lst.index(\"c\"));\n",
    "print(len(lst));\n",
    "lst.insert(3,66);\n",
    "print(lst);"
   ]
  },
  {
   "cell_type": "code",
   "execution_count": 44,
   "metadata": {},
   "outputs": [
    {
     "name": "stdout",
     "output_type": "stream",
     "text": [
      "['a', 'b', 'c', 'd', 'e']\n",
      "['a', 'b', 'c', 'e']\n",
      "['e', 'c', 'b', 'a']\n"
     ]
    }
   ],
   "source": [
    "lst=[\"a\",\"b\",\"c\",\"d\",\"e\"];\n",
    "print(lst);\n",
    "lst.remove(\"d\");\n",
    "print(lst);\n",
    "lst.reverse();\n",
    "print(lst);"
   ]
  },
  {
   "cell_type": "code",
   "execution_count": 2,
   "metadata": {},
   "outputs": [
    {
     "name": "stdout",
     "output_type": "stream",
     "text": [
      "target item is not found\n",
      "3\n"
     ]
    }
   ],
   "source": [
    "def linearsearch(a,taritem):\n",
    "    flag=0;\n",
    "    for i in range(len(a)):\n",
    "        if a[i]== taritem:\n",
    "            flag=flag+1\n",
    "            break\n",
    "    if(flag!=0):\n",
    "        print(\"target item is found\")\n",
    "    else:\n",
    "        print(\"target item is not found\")\n",
    "x=[12,67,34,74,35];\n",
    "linearsearch(x,54);\n",
    "print(x.index(74));"
   ]
  },
  {
   "cell_type": "code",
   "execution_count": 16,
   "metadata": {},
   "outputs": [
    {
     "name": "stdout",
     "output_type": "stream",
     "text": [
      " !  ! ! ! !  "
     ]
    }
   ],
   "source": [
    "def linearsearch(a,taritem):\n",
    "    flag=0;\n",
    "    \n",
    "    for i in range(len(a)):\n",
    "        if a[i]== taritem:\n",
    "            flag=flag+1;\n",
    "            y=0;\n",
    "            while(y<i):\n",
    "                print('!',end=\" \");\n",
    "                y=y+1;\n",
    "            print(end=\" \");\n",
    "x=[6,6,4,7,6];\n",
    "linearsearch(x,6);"
   ]
  },
  {
   "cell_type": "code",
   "execution_count": 13,
   "metadata": {},
   "outputs": [
    {
     "name": "stdout",
     "output_type": "stream",
     "text": [
      "item is not found\n"
     ]
    }
   ],
   "source": [
    "def bisearch(a,ri,li,taritem):\n",
    "    while(li<=ri):\n",
    "        mi=li+(ri-li)//2;\n",
    "        if a[mi]==taritem:\n",
    "            return mi\n",
    "        if a[mi]>taritem:\n",
    "            ri=mi-1\n",
    "        else:\n",
    "            li=mi+1\n",
    "    return -1\n",
    "lst=[3,1,67,5,8,9,10]\n",
    "res=bisearch(lst,4,2,0)\n",
    "if res !=-1:\n",
    "    print(\"item is found\")\n",
    "else:\n",
    "    print(\"item is not found\")"
   ]
  },
  {
   "cell_type": "code",
   "execution_count": 15,
   "metadata": {},
   "outputs": [
    {
     "name": "stdout",
     "output_type": "stream",
     "text": [
      "12 19 23 28 45 67 778 "
     ]
    }
   ],
   "source": [
    "def bsort(a):\n",
    "    for i in range(len(a)-1):\n",
    "        for j in range(len(a)-1):\n",
    "            if a[j]> a[j+1]:\n",
    "                a[j],a[j+1] = a[j+1],a[j]\n",
    "    for i in range (len(a)):\n",
    "        print(a[i],end=\" \")\n",
    "lst=[19,45,23,778,12,28,67]\n",
    "bsort(lst)"
   ]
  },
  {
   "cell_type": "code",
   "execution_count": 16,
   "metadata": {},
   "outputs": [
    {
     "name": "stdout",
     "output_type": "stream",
     "text": [
      "python\n",
      "str[0]= p\n",
      "str[-1]= n\n",
      "str[2]= t\n",
      "str[-3]= h\n",
      "str[4]= o\n"
     ]
    }
   ],
   "source": [
    "str=\"python\";\n",
    "print(str);\n",
    "print(\"str[0]=\",str[0]);\n",
    "print(\"str[-1]=\",str[-1]);\n",
    "print(\"str[2]=\",str[2]);\n",
    "print(\"str[-3]=\",str[-3]);\n",
    "print(\"str[4]=\",str[4]);"
   ]
  },
  {
   "cell_type": "code",
   "execution_count": 19,
   "metadata": {},
   "outputs": [
    {
     "name": "stdout",
     "output_type": "stream",
     "text": [
      "python\n",
      "str[0]= p\n",
      "str[-1]= n\n",
      "str[2:4]= th\n",
      "str[:-3]= pyt\n",
      "str[::4]= po\n"
     ]
    }
   ],
   "source": [
    "str=\"python\";\n",
    "print(str);\n",
    "print(\"str[0]=\",str[0]);\n",
    "print(\"str[-1]=\",str[-1]);\n",
    "print(\"str[2:4]=\",str[2:4]);\n",
    "print(\"str[:-3]=\",str[:-3]);\n",
    "print(\"str[::4]=\",str[::4]);"
   ]
  },
  {
   "cell_type": "code",
   "execution_count": 24,
   "metadata": {},
   "outputs": [
    {
     "name": "stdout",
     "output_type": "stream",
     "text": [
      "False\n",
      "True\n"
     ]
    }
   ],
   "source": [
    "def ispalindrome(s):\n",
    "    if s == s[::-1]:\n",
    "        return True\n",
    "    else:\n",
    "        return False\n",
    "    \n",
    "print(ispalindrome(\"python\"));\n",
    "print(ispalindrome(\"jalaj\"));"
   ]
  },
  {
   "cell_type": "code",
   "execution_count": 32,
   "metadata": {},
   "outputs": [
    {
     "name": "stdout",
     "output_type": "stream",
     "text": [
      "kn\n"
     ]
    }
   ],
   "source": [
    "str=\"anandkumar\";\n",
    "print(str[5::-4]);"
   ]
  },
  {
   "cell_type": "code",
   "execution_count": 28,
   "metadata": {},
   "outputs": [
    {
     "data": {
      "text/plain": [
       "8"
      ]
     },
     "execution_count": 28,
     "metadata": {},
     "output_type": "execute_result"
    }
   ],
   "source": [
    "def countdigits(n):\n",
    "    return len(n)\n",
    "countdigits(\"36457642\")"
   ]
  },
  {
   "cell_type": "code",
   "execution_count": 61,
   "metadata": {},
   "outputs": [
    {
     "name": "stdout",
     "output_type": "stream",
     "text": [
      "3\n"
     ]
    }
   ],
   "source": [
    "def countUppercase(str):\n",
    "    cnt=0\n",
    "    for i in range (len(str)):\n",
    "        if((ord(str[i])>=65)and(ord(str[i])<=90)):\n",
    "            cnt=cnt+1;\n",
    "    print(cnt);\n",
    "str=\"abdcABC123\";\n",
    "countUppercase(str);"
   ]
  },
  {
   "cell_type": "code",
   "execution_count": 64,
   "metadata": {},
   "outputs": [
    {
     "name": "stdout",
     "output_type": "stream",
     "text": [
      "gayathri sruthi\n"
     ]
    }
   ],
   "source": [
    "str=\"GAYATHRI SRUTHI\";\n",
    "print(str.lower());"
   ]
  },
  {
   "cell_type": "code",
   "execution_count": 67,
   "metadata": {},
   "outputs": [
    {
     "name": "stdout",
     "output_type": "stream",
     "text": [
      "16\n",
      "10\n"
     ]
    }
   ],
   "source": [
    "def sumonlyevendigits(str):\n",
    "    sum=0\n",
    "    lst=list(str)\n",
    "    for x in range(len(lst)):\n",
    "        if ord(lst[x])>= 48 and ord(lst[x]) <=57:\n",
    "            ac=ord(lst[x])-48;\n",
    "            if(ac%2==0):\n",
    "                sum=sum+ac\n",
    "    return sum\n",
    "print(sumonlyevendigits(\"application1889\"))\n",
    "print(sumonlyevendigits(\"Te1574s69t\"))"
   ]
  },
  {
   "cell_type": "code",
   "execution_count": 4,
   "metadata": {},
   "outputs": [
    {
     "name": "stdout",
     "output_type": "stream",
     "text": [
      "ABDURKIJMF\n",
      "abdurkijmf\n"
     ]
    }
   ],
   "source": [
    "str=\"aBdUrkIjmF\"\n",
    "print(str.upper())\n",
    "print(str.lower())"
   ]
  },
  {
   "cell_type": "code",
   "execution_count": 7,
   "metadata": {},
   "outputs": [
    {
     "name": "stdout",
     "output_type": "stream",
     "text": [
      "False\n",
      "True\n"
     ]
    }
   ],
   "source": [
    "s=\"SAJMDHJNSFIBH\"\n",
    "print(s.islower())\n",
    "print(s.isupper())"
   ]
  },
  {
   "cell_type": "code",
   "execution_count": 8,
   "metadata": {},
   "outputs": [
    {
     "name": "stdout",
     "output_type": "stream",
     "text": [
      "True\n",
      "False\n"
     ]
    }
   ],
   "source": [
    "s=\"344667\"\n",
    "s1=\"app2947\"\n",
    "print(s.isnumeric())\n",
    "print(s1.isnumeric())"
   ]
  },
  {
   "cell_type": "code",
   "execution_count": 9,
   "metadata": {},
   "outputs": [
    {
     "name": "stdout",
     "output_type": "stream",
     "text": [
      "True\n",
      "False\n"
     ]
    }
   ],
   "source": [
    "s=\"fksdhszkkgjvd\"\n",
    "s1=\"fdjkh28234765\"\n",
    "print(s.isalpha())\n",
    "print(s1.isalpha())"
   ]
  },
  {
   "cell_type": "code",
   "execution_count": null,
   "metadata": {},
   "outputs": [],
   "source": []
  }
 ],
 "metadata": {
  "kernelspec": {
   "display_name": "Python 3",
   "language": "python",
   "name": "python3"
  },
  "language_info": {
   "codemirror_mode": {
    "name": "ipython",
    "version": 3
   },
   "file_extension": ".py",
   "mimetype": "text/x-python",
   "name": "python",
   "nbconvert_exporter": "python",
   "pygments_lexer": "ipython3",
   "version": "3.7.3"
  }
 },
 "nbformat": 4,
 "nbformat_minor": 2
}
